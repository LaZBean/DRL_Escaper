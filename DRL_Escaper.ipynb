{
  "nbformat": 4,
  "nbformat_minor": 0,
  "metadata": {
    "colab": {
      "provenance": [],
      "collapsed_sections": [],
      "mount_file_id": "1SdTy0pUVOczIyh14H-i1jF70Q5_-FQ9c",
      "authorship_tag": "ABX9TyP1IGVhRsi7opnvWGPha8qi",
      "include_colab_link": true
    },
    "kernelspec": {
      "name": "python3",
      "display_name": "Python 3"
    },
    "language_info": {
      "name": "python"
    }
  },
  "cells": [
    {
      "cell_type": "markdown",
      "metadata": {
        "id": "view-in-github",
        "colab_type": "text"
      },
      "source": [
        "<a href=\"https://colab.research.google.com/github/LaZBean/DRL_Escaper/blob/main/DRL_Escaper.ipynb\" target=\"_parent\"><img src=\"https://colab.research.google.com/assets/colab-badge.svg\" alt=\"Open In Colab\"/></a>"
      ]
    },
    {
      "cell_type": "code",
      "execution_count": null,
      "metadata": {
        "colab": {
          "base_uri": "https://localhost:8080/",
          "height": 1000
        },
        "id": "p3xubcD9RgnY",
        "outputId": "799a0fd0-d783-43d1-8ea5-c2bb0a8c1479"
      },
      "outputs": [
        {
          "output_type": "stream",
          "name": "stdout",
          "text": [
            "Looking in indexes: https://pypi.org/simple, https://us-python.pkg.dev/colab-wheels/public/simple/\n",
            "Requirement already satisfied: tensorflow-gpu==2.3.0 in /usr/local/lib/python3.7/dist-packages (2.3.0)\n",
            "Requirement already satisfied: astunparse==1.6.3 in /usr/local/lib/python3.7/dist-packages (from tensorflow-gpu==2.3.0) (1.6.3)\n",
            "Collecting tensorflow-estimator<2.4.0,>=2.3.0\n",
            "  Using cached tensorflow_estimator-2.3.0-py2.py3-none-any.whl (459 kB)\n",
            "Requirement already satisfied: wrapt>=1.11.1 in /usr/local/lib/python3.7/dist-packages (from tensorflow-gpu==2.3.0) (1.14.1)\n",
            "Requirement already satisfied: opt-einsum>=2.3.2 in /usr/local/lib/python3.7/dist-packages (from tensorflow-gpu==2.3.0) (3.3.0)\n",
            "Requirement already satisfied: h5py<2.11.0,>=2.10.0 in /usr/local/lib/python3.7/dist-packages (from tensorflow-gpu==2.3.0) (2.10.0)\n",
            "Requirement already satisfied: gast==0.3.3 in /usr/local/lib/python3.7/dist-packages (from tensorflow-gpu==2.3.0) (0.3.3)\n",
            "Requirement already satisfied: wheel>=0.26 in /usr/local/lib/python3.7/dist-packages (from tensorflow-gpu==2.3.0) (0.37.1)\n",
            "Requirement already satisfied: tensorboard<3,>=2.3.0 in /usr/local/lib/python3.7/dist-packages (from tensorflow-gpu==2.3.0) (2.9.1)\n",
            "Requirement already satisfied: termcolor>=1.1.0 in /usr/local/lib/python3.7/dist-packages (from tensorflow-gpu==2.3.0) (2.0.1)\n",
            "Requirement already satisfied: grpcio>=1.8.6 in /usr/local/lib/python3.7/dist-packages (from tensorflow-gpu==2.3.0) (1.49.1)\n",
            "Requirement already satisfied: google-pasta>=0.1.8 in /usr/local/lib/python3.7/dist-packages (from tensorflow-gpu==2.3.0) (0.2.0)\n",
            "Collecting numpy<1.19.0,>=1.16.0\n",
            "  Using cached numpy-1.18.5-cp37-cp37m-manylinux1_x86_64.whl (20.1 MB)\n",
            "Requirement already satisfied: six>=1.12.0 in /usr/local/lib/python3.7/dist-packages (from tensorflow-gpu==2.3.0) (1.15.0)\n",
            "Requirement already satisfied: absl-py>=0.7.0 in /usr/local/lib/python3.7/dist-packages (from tensorflow-gpu==2.3.0) (1.2.0)\n",
            "Requirement already satisfied: scipy==1.4.1 in /usr/local/lib/python3.7/dist-packages (from tensorflow-gpu==2.3.0) (1.4.1)\n",
            "Requirement already satisfied: protobuf>=3.9.2 in /usr/local/lib/python3.7/dist-packages (from tensorflow-gpu==2.3.0) (3.17.3)\n",
            "Requirement already satisfied: keras-preprocessing<1.2,>=1.1.1 in /usr/local/lib/python3.7/dist-packages (from tensorflow-gpu==2.3.0) (1.1.2)\n",
            "Requirement already satisfied: markdown>=2.6.8 in /usr/local/lib/python3.7/dist-packages (from tensorboard<3,>=2.3.0->tensorflow-gpu==2.3.0) (3.4.1)\n",
            "Requirement already satisfied: setuptools>=41.0.0 in /usr/local/lib/python3.7/dist-packages (from tensorboard<3,>=2.3.0->tensorflow-gpu==2.3.0) (57.4.0)\n",
            "Requirement already satisfied: tensorboard-plugin-wit>=1.6.0 in /usr/local/lib/python3.7/dist-packages (from tensorboard<3,>=2.3.0->tensorflow-gpu==2.3.0) (1.8.1)\n",
            "Requirement already satisfied: werkzeug>=1.0.1 in /usr/local/lib/python3.7/dist-packages (from tensorboard<3,>=2.3.0->tensorflow-gpu==2.3.0) (1.0.1)\n",
            "Requirement already satisfied: google-auth<3,>=1.6.3 in /usr/local/lib/python3.7/dist-packages (from tensorboard<3,>=2.3.0->tensorflow-gpu==2.3.0) (1.35.0)\n",
            "Requirement already satisfied: google-auth-oauthlib<0.5,>=0.4.1 in /usr/local/lib/python3.7/dist-packages (from tensorboard<3,>=2.3.0->tensorflow-gpu==2.3.0) (0.4.6)\n",
            "Requirement already satisfied: requests<3,>=2.21.0 in /usr/local/lib/python3.7/dist-packages (from tensorboard<3,>=2.3.0->tensorflow-gpu==2.3.0) (2.23.0)\n",
            "Requirement already satisfied: tensorboard-data-server<0.7.0,>=0.6.0 in /usr/local/lib/python3.7/dist-packages (from tensorboard<3,>=2.3.0->tensorflow-gpu==2.3.0) (0.6.1)\n",
            "Requirement already satisfied: rsa<5,>=3.1.4 in /usr/local/lib/python3.7/dist-packages (from google-auth<3,>=1.6.3->tensorboard<3,>=2.3.0->tensorflow-gpu==2.3.0) (4.9)\n",
            "Requirement already satisfied: pyasn1-modules>=0.2.1 in /usr/local/lib/python3.7/dist-packages (from google-auth<3,>=1.6.3->tensorboard<3,>=2.3.0->tensorflow-gpu==2.3.0) (0.2.8)\n",
            "Requirement already satisfied: cachetools<5.0,>=2.0.0 in /usr/local/lib/python3.7/dist-packages (from google-auth<3,>=1.6.3->tensorboard<3,>=2.3.0->tensorflow-gpu==2.3.0) (4.2.4)\n",
            "Requirement already satisfied: requests-oauthlib>=0.7.0 in /usr/local/lib/python3.7/dist-packages (from google-auth-oauthlib<0.5,>=0.4.1->tensorboard<3,>=2.3.0->tensorflow-gpu==2.3.0) (1.3.1)\n",
            "Requirement already satisfied: importlib-metadata>=4.4 in /usr/local/lib/python3.7/dist-packages (from markdown>=2.6.8->tensorboard<3,>=2.3.0->tensorflow-gpu==2.3.0) (5.0.0)\n",
            "Requirement already satisfied: typing-extensions>=3.6.4 in /usr/local/lib/python3.7/dist-packages (from importlib-metadata>=4.4->markdown>=2.6.8->tensorboard<3,>=2.3.0->tensorflow-gpu==2.3.0) (4.1.1)\n",
            "Requirement already satisfied: zipp>=0.5 in /usr/local/lib/python3.7/dist-packages (from importlib-metadata>=4.4->markdown>=2.6.8->tensorboard<3,>=2.3.0->tensorflow-gpu==2.3.0) (3.9.0)\n",
            "Requirement already satisfied: pyasn1<0.5.0,>=0.4.6 in /usr/local/lib/python3.7/dist-packages (from pyasn1-modules>=0.2.1->google-auth<3,>=1.6.3->tensorboard<3,>=2.3.0->tensorflow-gpu==2.3.0) (0.4.8)\n",
            "Requirement already satisfied: urllib3!=1.25.0,!=1.25.1,<1.26,>=1.21.1 in /usr/local/lib/python3.7/dist-packages (from requests<3,>=2.21.0->tensorboard<3,>=2.3.0->tensorflow-gpu==2.3.0) (1.24.3)\n",
            "Requirement already satisfied: idna<3,>=2.5 in /usr/local/lib/python3.7/dist-packages (from requests<3,>=2.21.0->tensorboard<3,>=2.3.0->tensorflow-gpu==2.3.0) (2.10)\n",
            "Requirement already satisfied: chardet<4,>=3.0.2 in /usr/local/lib/python3.7/dist-packages (from requests<3,>=2.21.0->tensorboard<3,>=2.3.0->tensorflow-gpu==2.3.0) (3.0.4)\n",
            "Requirement already satisfied: certifi>=2017.4.17 in /usr/local/lib/python3.7/dist-packages (from requests<3,>=2.21.0->tensorboard<3,>=2.3.0->tensorflow-gpu==2.3.0) (2022.9.24)\n",
            "Requirement already satisfied: oauthlib>=3.0.0 in /usr/local/lib/python3.7/dist-packages (from requests-oauthlib>=0.7.0->google-auth-oauthlib<0.5,>=0.4.1->tensorboard<3,>=2.3.0->tensorflow-gpu==2.3.0) (3.2.1)\n",
            "Installing collected packages: numpy, tensorflow-estimator\n",
            "  Attempting uninstall: numpy\n",
            "    Found existing installation: numpy 1.21.6\n",
            "    Uninstalling numpy-1.21.6:\n",
            "      Successfully uninstalled numpy-1.21.6\n",
            "  Attempting uninstall: tensorflow-estimator\n",
            "    Found existing installation: tensorflow-estimator 2.9.0\n",
            "    Uninstalling tensorflow-estimator-2.9.0:\n",
            "      Successfully uninstalled tensorflow-estimator-2.9.0\n",
            "\u001b[31mERROR: pip's dependency resolver does not currently take into account all the packages that are installed. This behaviour is the source of the following dependency conflicts.\n",
            "xarray-einstats 0.2.2 requires numpy>=1.21, but you have numpy 1.18.5 which is incompatible.\n",
            "tensorflow 2.9.2 requires numpy>=1.20, but you have numpy 1.18.5 which is incompatible.\n",
            "tensorflow 2.9.2 requires tensorflow-estimator<2.10.0,>=2.9.0rc0, but you have tensorflow-estimator 2.3.0 which is incompatible.\n",
            "tables 3.7.0 requires numpy>=1.19.0, but you have numpy 1.18.5 which is incompatible.\n",
            "plotnine 0.8.0 requires numpy>=1.19.0, but you have numpy 1.18.5 which is incompatible.\n",
            "plotnine 0.8.0 requires scipy>=1.5.0, but you have scipy 1.4.1 which is incompatible.\n",
            "jaxlib 0.3.20+cuda11.cudnn805 requires numpy>=1.20, but you have numpy 1.18.5 which is incompatible.\n",
            "jaxlib 0.3.20+cuda11.cudnn805 requires scipy>=1.5, but you have scipy 1.4.1 which is incompatible.\n",
            "jax 0.3.21 requires numpy>=1.20, but you have numpy 1.18.5 which is incompatible.\n",
            "jax 0.3.21 requires scipy>=1.5, but you have scipy 1.4.1 which is incompatible.\n",
            "cmdstanpy 1.0.7 requires numpy>=1.21, but you have numpy 1.18.5 which is incompatible.\u001b[0m\n",
            "Successfully installed numpy-1.18.5 tensorflow-estimator-2.3.0\n"
          ]
        },
        {
          "output_type": "display_data",
          "data": {
            "application/vnd.colab-display-data+json": {
              "pip_warning": {
                "packages": [
                  "numpy"
                ]
              }
            }
          },
          "metadata": {}
        },
        {
          "output_type": "stream",
          "name": "stdout",
          "text": [
            "Looking in indexes: https://pypi.org/simple, https://us-python.pkg.dev/colab-wheels/public/simple/\n",
            "Requirement already satisfied: gym in /usr/local/lib/python3.7/dist-packages (0.25.2)\n",
            "Requirement already satisfied: importlib-metadata>=4.8.0 in /usr/local/lib/python3.7/dist-packages (from gym) (5.0.0)\n",
            "Requirement already satisfied: cloudpickle>=1.2.0 in /usr/local/lib/python3.7/dist-packages (from gym) (1.5.0)\n",
            "Requirement already satisfied: numpy>=1.18.0 in /usr/local/lib/python3.7/dist-packages (from gym) (1.18.5)\n",
            "Requirement already satisfied: gym-notices>=0.0.4 in /usr/local/lib/python3.7/dist-packages (from gym) (0.0.8)\n",
            "Requirement already satisfied: zipp>=0.5 in /usr/local/lib/python3.7/dist-packages (from importlib-metadata>=4.8.0->gym) (3.9.0)\n",
            "Requirement already satisfied: typing-extensions>=3.6.4 in /usr/local/lib/python3.7/dist-packages (from importlib-metadata>=4.8.0->gym) (4.1.1)\n",
            "Looking in indexes: https://pypi.org/simple, https://us-python.pkg.dev/colab-wheels/public/simple/\n",
            "Requirement already satisfied: keras in /usr/local/lib/python3.7/dist-packages (2.9.0)\n",
            "Looking in indexes: https://pypi.org/simple, https://us-python.pkg.dev/colab-wheels/public/simple/\n",
            "Requirement already satisfied: keras-rl2 in /usr/local/lib/python3.7/dist-packages (1.0.5)\n",
            "Requirement already satisfied: tensorflow in /usr/local/lib/python3.7/dist-packages (from keras-rl2) (2.9.2)\n",
            "Requirement already satisfied: wrapt>=1.11.0 in /usr/local/lib/python3.7/dist-packages (from tensorflow->keras-rl2) (1.14.1)\n",
            "Requirement already satisfied: termcolor>=1.1.0 in /usr/local/lib/python3.7/dist-packages (from tensorflow->keras-rl2) (2.0.1)\n",
            "Requirement already satisfied: keras-preprocessing>=1.1.1 in /usr/local/lib/python3.7/dist-packages (from tensorflow->keras-rl2) (1.1.2)\n",
            "Requirement already satisfied: astunparse>=1.6.0 in /usr/local/lib/python3.7/dist-packages (from tensorflow->keras-rl2) (1.6.3)\n",
            "Requirement already satisfied: setuptools in /usr/local/lib/python3.7/dist-packages (from tensorflow->keras-rl2) (57.4.0)\n",
            "Requirement already satisfied: tensorflow-io-gcs-filesystem>=0.23.1 in /usr/local/lib/python3.7/dist-packages (from tensorflow->keras-rl2) (0.27.0)\n",
            "Collecting numpy>=1.20\n",
            "  Using cached numpy-1.21.6-cp37-cp37m-manylinux_2_12_x86_64.manylinux2010_x86_64.whl (15.7 MB)\n",
            "Requirement already satisfied: libclang>=13.0.0 in /usr/local/lib/python3.7/dist-packages (from tensorflow->keras-rl2) (14.0.6)\n",
            "Requirement already satisfied: grpcio<2.0,>=1.24.3 in /usr/local/lib/python3.7/dist-packages (from tensorflow->keras-rl2) (1.49.1)\n",
            "Requirement already satisfied: opt-einsum>=2.3.2 in /usr/local/lib/python3.7/dist-packages (from tensorflow->keras-rl2) (3.3.0)\n",
            "Requirement already satisfied: flatbuffers<2,>=1.12 in /usr/local/lib/python3.7/dist-packages (from tensorflow->keras-rl2) (1.12)\n",
            "Requirement already satisfied: h5py>=2.9.0 in /usr/local/lib/python3.7/dist-packages (from tensorflow->keras-rl2) (2.10.0)\n",
            "Requirement already satisfied: keras<2.10.0,>=2.9.0rc0 in /usr/local/lib/python3.7/dist-packages (from tensorflow->keras-rl2) (2.9.0)\n",
            "Requirement already satisfied: six>=1.12.0 in /usr/local/lib/python3.7/dist-packages (from tensorflow->keras-rl2) (1.15.0)\n",
            "Requirement already satisfied: tensorboard<2.10,>=2.9 in /usr/local/lib/python3.7/dist-packages (from tensorflow->keras-rl2) (2.9.1)\n",
            "Requirement already satisfied: gast<=0.4.0,>=0.2.1 in /usr/local/lib/python3.7/dist-packages (from tensorflow->keras-rl2) (0.3.3)\n",
            "Requirement already satisfied: packaging in /usr/local/lib/python3.7/dist-packages (from tensorflow->keras-rl2) (21.3)\n",
            "Requirement already satisfied: absl-py>=1.0.0 in /usr/local/lib/python3.7/dist-packages (from tensorflow->keras-rl2) (1.2.0)\n",
            "Requirement already satisfied: google-pasta>=0.1.1 in /usr/local/lib/python3.7/dist-packages (from tensorflow->keras-rl2) (0.2.0)\n",
            "Collecting tensorflow-estimator<2.10.0,>=2.9.0rc0\n",
            "  Using cached tensorflow_estimator-2.9.0-py2.py3-none-any.whl (438 kB)\n",
            "Requirement already satisfied: typing-extensions>=3.6.6 in /usr/local/lib/python3.7/dist-packages (from tensorflow->keras-rl2) (4.1.1)\n",
            "Requirement already satisfied: protobuf<3.20,>=3.9.2 in /usr/local/lib/python3.7/dist-packages (from tensorflow->keras-rl2) (3.17.3)\n",
            "Requirement already satisfied: wheel<1.0,>=0.23.0 in /usr/local/lib/python3.7/dist-packages (from astunparse>=1.6.0->tensorflow->keras-rl2) (0.37.1)\n",
            "Requirement already satisfied: google-auth<3,>=1.6.3 in /usr/local/lib/python3.7/dist-packages (from tensorboard<2.10,>=2.9->tensorflow->keras-rl2) (1.35.0)\n",
            "Requirement already satisfied: requests<3,>=2.21.0 in /usr/local/lib/python3.7/dist-packages (from tensorboard<2.10,>=2.9->tensorflow->keras-rl2) (2.23.0)\n",
            "Requirement already satisfied: tensorboard-plugin-wit>=1.6.0 in /usr/local/lib/python3.7/dist-packages (from tensorboard<2.10,>=2.9->tensorflow->keras-rl2) (1.8.1)\n",
            "Requirement already satisfied: tensorboard-data-server<0.7.0,>=0.6.0 in /usr/local/lib/python3.7/dist-packages (from tensorboard<2.10,>=2.9->tensorflow->keras-rl2) (0.6.1)\n",
            "Requirement already satisfied: markdown>=2.6.8 in /usr/local/lib/python3.7/dist-packages (from tensorboard<2.10,>=2.9->tensorflow->keras-rl2) (3.4.1)\n",
            "Requirement already satisfied: google-auth-oauthlib<0.5,>=0.4.1 in /usr/local/lib/python3.7/dist-packages (from tensorboard<2.10,>=2.9->tensorflow->keras-rl2) (0.4.6)\n",
            "Requirement already satisfied: werkzeug>=1.0.1 in /usr/local/lib/python3.7/dist-packages (from tensorboard<2.10,>=2.9->tensorflow->keras-rl2) (1.0.1)\n",
            "Requirement already satisfied: cachetools<5.0,>=2.0.0 in /usr/local/lib/python3.7/dist-packages (from google-auth<3,>=1.6.3->tensorboard<2.10,>=2.9->tensorflow->keras-rl2) (4.2.4)\n",
            "Requirement already satisfied: pyasn1-modules>=0.2.1 in /usr/local/lib/python3.7/dist-packages (from google-auth<3,>=1.6.3->tensorboard<2.10,>=2.9->tensorflow->keras-rl2) (0.2.8)\n",
            "Requirement already satisfied: rsa<5,>=3.1.4 in /usr/local/lib/python3.7/dist-packages (from google-auth<3,>=1.6.3->tensorboard<2.10,>=2.9->tensorflow->keras-rl2) (4.9)\n",
            "Requirement already satisfied: requests-oauthlib>=0.7.0 in /usr/local/lib/python3.7/dist-packages (from google-auth-oauthlib<0.5,>=0.4.1->tensorboard<2.10,>=2.9->tensorflow->keras-rl2) (1.3.1)\n",
            "Requirement already satisfied: importlib-metadata>=4.4 in /usr/local/lib/python3.7/dist-packages (from markdown>=2.6.8->tensorboard<2.10,>=2.9->tensorflow->keras-rl2) (5.0.0)\n",
            "Requirement already satisfied: zipp>=0.5 in /usr/local/lib/python3.7/dist-packages (from importlib-metadata>=4.4->markdown>=2.6.8->tensorboard<2.10,>=2.9->tensorflow->keras-rl2) (3.9.0)\n",
            "Requirement already satisfied: pyasn1<0.5.0,>=0.4.6 in /usr/local/lib/python3.7/dist-packages (from pyasn1-modules>=0.2.1->google-auth<3,>=1.6.3->tensorboard<2.10,>=2.9->tensorflow->keras-rl2) (0.4.8)\n",
            "Requirement already satisfied: urllib3!=1.25.0,!=1.25.1,<1.26,>=1.21.1 in /usr/local/lib/python3.7/dist-packages (from requests<3,>=2.21.0->tensorboard<2.10,>=2.9->tensorflow->keras-rl2) (1.24.3)\n",
            "Requirement already satisfied: idna<3,>=2.5 in /usr/local/lib/python3.7/dist-packages (from requests<3,>=2.21.0->tensorboard<2.10,>=2.9->tensorflow->keras-rl2) (2.10)\n",
            "Requirement already satisfied: certifi>=2017.4.17 in /usr/local/lib/python3.7/dist-packages (from requests<3,>=2.21.0->tensorboard<2.10,>=2.9->tensorflow->keras-rl2) (2022.9.24)\n",
            "Requirement already satisfied: chardet<4,>=3.0.2 in /usr/local/lib/python3.7/dist-packages (from requests<3,>=2.21.0->tensorboard<2.10,>=2.9->tensorflow->keras-rl2) (3.0.4)\n",
            "Requirement already satisfied: oauthlib>=3.0.0 in /usr/local/lib/python3.7/dist-packages (from requests-oauthlib>=0.7.0->google-auth-oauthlib<0.5,>=0.4.1->tensorboard<2.10,>=2.9->tensorflow->keras-rl2) (3.2.1)\n",
            "Requirement already satisfied: pyparsing!=3.0.5,>=2.0.2 in /usr/local/lib/python3.7/dist-packages (from packaging->tensorflow->keras-rl2) (3.0.9)\n",
            "Installing collected packages: numpy, tensorflow-estimator\n",
            "  Attempting uninstall: numpy\n",
            "    Found existing installation: numpy 1.18.5\n",
            "    Uninstalling numpy-1.18.5:\n",
            "      Successfully uninstalled numpy-1.18.5\n",
            "  Attempting uninstall: tensorflow-estimator\n",
            "    Found existing installation: tensorflow-estimator 2.3.0\n",
            "    Uninstalling tensorflow-estimator-2.3.0:\n",
            "      Successfully uninstalled tensorflow-estimator-2.3.0\n",
            "\u001b[31mERROR: pip's dependency resolver does not currently take into account all the packages that are installed. This behaviour is the source of the following dependency conflicts.\n",
            "tensorflow-gpu 2.3.0 requires numpy<1.19.0,>=1.16.0, but you have numpy 1.21.6 which is incompatible.\n",
            "tensorflow-gpu 2.3.0 requires tensorflow-estimator<2.4.0,>=2.3.0, but you have tensorflow-estimator 2.9.0 which is incompatible.\n",
            "plotnine 0.8.0 requires scipy>=1.5.0, but you have scipy 1.4.1 which is incompatible.\n",
            "jaxlib 0.3.20+cuda11.cudnn805 requires scipy>=1.5, but you have scipy 1.4.1 which is incompatible.\n",
            "jax 0.3.21 requires scipy>=1.5, but you have scipy 1.4.1 which is incompatible.\u001b[0m\n",
            "Successfully installed numpy-1.21.6 tensorflow-estimator-2.9.0\n"
          ]
        },
        {
          "output_type": "display_data",
          "data": {
            "application/vnd.colab-display-data+json": {
              "pip_warning": {
                "packages": [
                  "numpy"
                ]
              }
            }
          },
          "metadata": {}
        }
      ],
      "source": [
        "!pip install tensorflow-gpu==2.3.0\n",
        "!pip install gym\n",
        "!pip install keras\n",
        "!pip install keras-rl2"
      ]
    },
    {
      "cell_type": "code",
      "source": [
        "from gym import Env\n",
        "from gym.spaces import Discrete, Box\n",
        "import numpy as np\n",
        "import random\n",
        "import time\n",
        "\n",
        "from IPython.display import clear_output"
      ],
      "metadata": {
        "id": "WgJi8ij5Vg7k"
      },
      "execution_count": null,
      "outputs": []
    },
    {
      "cell_type": "code",
      "source": [
        "class CustomEnv(Env):\n",
        "  def __init__(self):\n",
        "    \n",
        "    self.action_space = Discrete(4)\n",
        "    self.observation_space = 7\n",
        "\n",
        "    self.w = 10\n",
        "    self.h = 10\n",
        "    self.max_time = 100\n",
        "    self.state_size = 7\n",
        "\n",
        "    self.reset()\n",
        "\n",
        "  def step(self, action):\n",
        "\n",
        "    self.time+=1\n",
        "\n",
        "    xd = (self.playerX - self.enemyX)\n",
        "    yd = (self.playerY - self.enemyY)\n",
        "    self.d = abs(xd) + abs(yd)\n",
        "        \n",
        "    if(self.time%2==0):\n",
        "      if( abs(xd)>abs(yd) ):\n",
        "        self.enemyX += 1 * np.sign(xd)\n",
        "      else:\n",
        "        self.enemyY += 1 * np.sign(yd)\n",
        "\n",
        "\n",
        "    if(self.done == False):\n",
        "      if(action == 0):\n",
        "        self.playerY +=1\n",
        "      elif(action == 1):\n",
        "        self.playerX +=1\n",
        "      elif(action == 2):\n",
        "        self.playerY -=1\n",
        "      elif(action == 3):\n",
        "        self.playerX -=1\n",
        "        \n",
        "    reward = 0\n",
        "    info = \"\"\n",
        "    if(self.is_lost()):\n",
        "      reward = -100\n",
        "      self.done = True\n",
        "      info = \"Catch!\"\n",
        "    elif(self.player_is_out_of_bounds()):\n",
        "      reward = -100\n",
        "      self.done = True\n",
        "      info = \"Out!\"\n",
        "    elif(self.time >= self.max_time):\n",
        "      reward = 1\n",
        "      self.done = True\n",
        "      info = \"Survived!\"\n",
        "    else:\n",
        "      reward = 1\n",
        "\n",
        "    return self.state_creator(), reward, self.done, {}\n",
        "\n",
        "\n",
        "  def render(self, mode='human', close=False):\n",
        "    clear_output()\n",
        "    boxGreen = '\\033[;42m \\033[0m'\n",
        "    boxRed = '\\033[;41m \\033[0m'\n",
        "\n",
        "    for x in range(self.w):\n",
        "      print(\"[\", end = ' ')\n",
        "      \n",
        "      for y in range(self.h):\n",
        "        s = \" ,\"\n",
        "        if(self.playerX == x and self.playerY == y):\n",
        "          s = boxGreen+\",\"\n",
        "        if(self.enemyX == x and self.enemyY == y):\n",
        "          s = boxRed+\",\"\n",
        "        \n",
        "        print(s, end = ' ')\n",
        "        \n",
        "      print(\"]\")  \n",
        "    print(\"step: {}, dist: {}, pos: [{}, {}]\".format(self.time, self.d, self.playerX, self.playerY))  \n",
        "    time.sleep(1)\n",
        "\n",
        "\n",
        "  def reset(self):\n",
        "    self.d = 0\n",
        "    self.time = 0\n",
        "    self.done = False\n",
        "\n",
        "    self.tiles = [[0 for i in range(self.w)] for j in range(self.h)] \n",
        "\n",
        "    self.playerX = random.randint(0, self.w-1)\n",
        "    self.playerY = random.randint(0, self.h-1)\n",
        "\n",
        "    self.enemyX = random.randint(0, self.w-1)\n",
        "    self.enemyY = random.randint(0, self.h-1)\n",
        "\n",
        "    return self.state_creator()\n",
        "\n",
        "  def is_lost(self):\n",
        "    return ((self.playerX == self.enemyX) and (self.playerY == self.enemyY))\n",
        "\n",
        "  def player_is_out_of_bounds(self):\n",
        "    return (self.playerX < 0) or (self.playerY < 0) or (self.playerX >= self.w) or (self.playerY >= self.h)\n",
        "\n",
        "  def state_creator(self):\n",
        "    \n",
        "    state = []\n",
        "    state.append(self.w)\n",
        "    state.append(self.h)\n",
        "    state.append(self.playerX)\n",
        "    state.append(self.playerY)\n",
        "    state.append(self.enemyX)\n",
        "    state.append(self.enemyY)\n",
        "    state.append(self.d)\n",
        "    \n",
        "\n",
        "    r = np.array([state])\n",
        "    r = np.reshape(r, [1, self.observation_space])\n",
        "    return r"
      ],
      "metadata": {
        "id": "uEVkmam6b4UL"
      },
      "execution_count": null,
      "outputs": []
    },
    {
      "cell_type": "code",
      "source": [
        "env = CustomEnv()"
      ],
      "metadata": {
        "id": "nSsH6nllWdHJ"
      },
      "execution_count": null,
      "outputs": []
    },
    {
      "cell_type": "code",
      "source": [
        "env.state_creator()"
      ],
      "metadata": {
        "colab": {
          "base_uri": "https://localhost:8080/"
        },
        "id": "z6UNI4yRtZxE",
        "outputId": "7aff3d8d-c1fe-4cc1-aaff-809c9ea150f8"
      },
      "execution_count": null,
      "outputs": [
        {
          "output_type": "execute_result",
          "data": {
            "text/plain": [
              "array([[10, 10,  4,  5,  7,  2,  0]])"
            ]
          },
          "metadata": {},
          "execution_count": 238
        }
      ]
    },
    {
      "cell_type": "code",
      "source": [
        "\n",
        "episodes = 10\n",
        "for episode in range(1, episodes+1):\n",
        "    state = env.reset()\n",
        "    #print(state)\n",
        "    done = False\n",
        "    score = 0 \n",
        "    \n",
        "    while not done:\n",
        "        #env.render()\n",
        "        action = env.action_space.sample()\n",
        "        n_state, reward, done, info = env.step(action)\n",
        "        score+=reward\n",
        "    print('Episode:{} Score:{}'.format(episode, score))"
      ],
      "metadata": {
        "colab": {
          "base_uri": "https://localhost:8080/"
        },
        "id": "o5KiQCT9ZikD",
        "outputId": "d5d6b513-8532-4501-9f22-a08c43cbf5eb"
      },
      "execution_count": null,
      "outputs": [
        {
          "output_type": "stream",
          "name": "stdout",
          "text": [
            "Episode:1 Score:-85\n",
            "Episode:2 Score:-100\n",
            "Episode:3 Score:-94\n",
            "Episode:4 Score:-97\n",
            "Episode:5 Score:-82\n",
            "Episode:6 Score:-90\n",
            "Episode:7 Score:-90\n",
            "Episode:8 Score:-83\n",
            "Episode:9 Score:-100\n",
            "Episode:10 Score:-86\n"
          ]
        }
      ]
    },
    {
      "cell_type": "markdown",
      "source": [
        "# **2. Create a Deep Learning Model with Keras**"
      ],
      "metadata": {
        "id": "8GgYsTv8pIO4"
      }
    },
    {
      "cell_type": "code",
      "source": [
        "import numpy as np\n",
        "from tensorflow.keras.models import Sequential\n",
        "from tensorflow.keras.layers import Dense, Flatten\n",
        "from tensorflow.keras.optimizers import Adam\n"
      ],
      "metadata": {
        "id": "kgnr4mnJl3Mq"
      },
      "execution_count": null,
      "outputs": []
    },
    {
      "cell_type": "code",
      "source": [
        "states = env.observation_space#env.observation_space.shape[0]\n",
        "actions = env.action_space.n"
      ],
      "metadata": {
        "id": "uzQjCQwXpaHF"
      },
      "execution_count": null,
      "outputs": []
    },
    {
      "cell_type": "code",
      "source": [
        "def build_model(states, actions):\n",
        "    model = Sequential()    \n",
        "    model.add(Dense(24, activation='relu', input_shape=(1,1,7,))) # input_dim=states\n",
        "    model.add(Dense(24, activation='relu'))\n",
        "    model.add(Flatten())\n",
        "    model.add(Dense(actions, activation='linear'))\n",
        "    return model"
      ],
      "metadata": {
        "id": "_8Js18DqpfQ9"
      },
      "execution_count": null,
      "outputs": []
    },
    {
      "cell_type": "code",
      "source": [
        "\n",
        "model = build_model(states, actions)\n",
        "model.summary()"
      ],
      "metadata": {
        "colab": {
          "base_uri": "https://localhost:8080/"
        },
        "id": "FWQaE_DepkVs",
        "outputId": "adf0ef8e-f370-4c26-af54-1fc727e3d439"
      },
      "execution_count": null,
      "outputs": [
        {
          "output_type": "stream",
          "name": "stdout",
          "text": [
            "Model: \"sequential_24\"\n",
            "_________________________________________________________________\n",
            "Layer (type)                 Output Shape              Param #   \n",
            "=================================================================\n",
            "dense_62 (Dense)             (None, 1, 1, 24)          192       \n",
            "_________________________________________________________________\n",
            "dense_63 (Dense)             (None, 1, 1, 24)          600       \n",
            "_________________________________________________________________\n",
            "flatten_13 (Flatten)         (None, 24)                0         \n",
            "_________________________________________________________________\n",
            "dense_64 (Dense)             (None, 4)                 100       \n",
            "=================================================================\n",
            "Total params: 892\n",
            "Trainable params: 892\n",
            "Non-trainable params: 0\n",
            "_________________________________________________________________\n"
          ]
        }
      ]
    },
    {
      "cell_type": "code",
      "source": [
        "del model"
      ],
      "metadata": {
        "id": "VHY-2xxfsRP0"
      },
      "execution_count": null,
      "outputs": []
    },
    {
      "cell_type": "markdown",
      "source": [
        "# **3. Build Agent with Keras-RL**"
      ],
      "metadata": {
        "id": "eTcYog4ZrPm0"
      }
    },
    {
      "cell_type": "code",
      "source": [
        "from rl.agents import DQNAgent\n",
        "from rl.policy import BoltzmannQPolicy\n",
        "from rl.memory import SequentialMemory"
      ],
      "metadata": {
        "id": "KBPw6VzcplGX"
      },
      "execution_count": null,
      "outputs": []
    },
    {
      "cell_type": "code",
      "source": [
        "def build_agent(model, actions):\n",
        "    policy = BoltzmannQPolicy()\n",
        "    memory = SequentialMemory(limit=50000, window_length=1)\n",
        "    dqn = DQNAgent(model=model, memory=memory, policy=policy, \n",
        "                  nb_actions=actions, nb_steps_warmup=10, target_model_update=1e-2)\n",
        "    return dqn"
      ],
      "metadata": {
        "id": "anSOxQoOrSjZ"
      },
      "execution_count": null,
      "outputs": []
    },
    {
      "cell_type": "code",
      "source": [
        "dqn = build_agent(model, actions)\n",
        "dqn.compile(Adam(lr=1e-3), metrics=['mae'])\n",
        "history = dqn.fit(env, nb_steps=50000, visualize=False, verbose=1)"
      ],
      "metadata": {
        "colab": {
          "base_uri": "https://localhost:8080/"
        },
        "id": "MezdgoeTrX1q",
        "outputId": "b2e0c30b-bc63-45f3-98bd-6f6f4f444d4c"
      },
      "execution_count": null,
      "outputs": [
        {
          "output_type": "stream",
          "name": "stdout",
          "text": [
            "Training for 50000 steps ...\n",
            "Interval 1 (0 steps performed)\n",
            "    1/10000 [..............................] - ETA: 1:19:58 - reward: 1.0000"
          ]
        },
        {
          "output_type": "stream",
          "name": "stderr",
          "text": [
            "/usr/local/lib/python3.7/dist-packages/rl/memory.py:37: UserWarning: Not enough entries to sample without replacement. Consider increasing your warm-up phase to avoid oversampling!\n",
            "  warnings.warn('Not enough entries to sample without replacement. Consider increasing your warm-up phase to avoid oversampling!')\n"
          ]
        },
        {
          "output_type": "stream",
          "name": "stdout",
          "text": [
            "10000/10000 [==============================] - 96s 10ms/step - reward: -2.1411\n",
            "339 episodes - episode_reward: -63.416 [-100.000, 100.000] - loss: 86.434 - mae: 39.032 - mean_q: -41.902\n",
            "\n",
            "Interval 2 (10000 steps performed)\n",
            "10000/10000 [==============================] - 92s 9ms/step - reward: 0.7879\n",
            "119 episodes - episode_reward: 66.387 [-100.000, 100.000] - loss: 78.022 - mae: 16.871 - mean_q: 1.011\n",
            "\n",
            "Interval 3 (20000 steps performed)\n",
            "10000/10000 [==============================] - 94s 9ms/step - reward: 0.9091\n",
            "107 episodes - episode_reward: 84.981 [-100.000, 100.000] - loss: 100.210 - mae: 20.343 - mean_q: 40.840\n",
            "\n",
            "Interval 4 (30000 steps performed)\n",
            "10000/10000 [==============================] - 96s 10ms/step - reward: 0.9192\n",
            "107 episodes - episode_reward: 86.299 [-100.000, 100.000] - loss: 100.497 - mae: 30.724 - mean_q: 58.792\n",
            "\n",
            "Interval 5 (40000 steps performed)\n",
            "10000/10000 [==============================] - 96s 10ms/step - reward: 0.8788\n",
            "done, took 473.791 seconds\n"
          ]
        }
      ]
    },
    {
      "cell_type": "code",
      "source": [
        "scores = dqn.test(env, nb_episodes=100, visualize=False)\n",
        "print(np.mean(scores.history['episode_reward']))"
      ],
      "metadata": {
        "colab": {
          "base_uri": "https://localhost:8080/"
        },
        "id": "YvfTHXp_0hPs",
        "outputId": "eacfbe40-c9ba-4e50-d3e3-84c2f4666db9"
      },
      "execution_count": null,
      "outputs": [
        {
          "output_type": "stream",
          "name": "stdout",
          "text": [
            "Testing for 100 episodes ...\n",
            "Episode 1: reward: 100.000, steps: 100\n",
            "Episode 2: reward: 100.000, steps: 100\n",
            "Episode 3: reward: 100.000, steps: 100\n",
            "Episode 4: reward: 100.000, steps: 100\n",
            "Episode 5: reward: 100.000, steps: 100\n",
            "Episode 6: reward: 100.000, steps: 100\n",
            "Episode 7: reward: 100.000, steps: 100\n",
            "Episode 8: reward: 100.000, steps: 100\n",
            "Episode 9: reward: 100.000, steps: 100\n",
            "Episode 10: reward: 100.000, steps: 100\n",
            "Episode 11: reward: 100.000, steps: 100\n",
            "Episode 12: reward: 100.000, steps: 100\n",
            "Episode 13: reward: 100.000, steps: 100\n",
            "Episode 14: reward: 100.000, steps: 100\n",
            "Episode 15: reward: -100.000, steps: 1\n",
            "Episode 16: reward: 100.000, steps: 100\n",
            "Episode 17: reward: 100.000, steps: 100\n",
            "Episode 18: reward: 100.000, steps: 100\n",
            "Episode 19: reward: 100.000, steps: 100\n",
            "Episode 20: reward: 100.000, steps: 100\n",
            "Episode 21: reward: 100.000, steps: 100\n",
            "Episode 22: reward: 100.000, steps: 100\n",
            "Episode 23: reward: 100.000, steps: 100\n",
            "Episode 24: reward: 100.000, steps: 100\n",
            "Episode 25: reward: 100.000, steps: 100\n",
            "Episode 26: reward: 100.000, steps: 100\n",
            "Episode 27: reward: 100.000, steps: 100\n",
            "Episode 28: reward: 100.000, steps: 100\n",
            "Episode 29: reward: 100.000, steps: 100\n",
            "Episode 30: reward: 100.000, steps: 100\n",
            "Episode 31: reward: 100.000, steps: 100\n",
            "Episode 32: reward: 100.000, steps: 100\n",
            "Episode 33: reward: 100.000, steps: 100\n",
            "Episode 34: reward: 100.000, steps: 100\n",
            "Episode 35: reward: 100.000, steps: 100\n",
            "Episode 36: reward: 100.000, steps: 100\n",
            "Episode 37: reward: 100.000, steps: 100\n",
            "Episode 38: reward: 100.000, steps: 100\n",
            "Episode 39: reward: 100.000, steps: 100\n",
            "Episode 40: reward: 100.000, steps: 100\n",
            "Episode 41: reward: 100.000, steps: 100\n",
            "Episode 42: reward: 100.000, steps: 100\n",
            "Episode 43: reward: 100.000, steps: 100\n",
            "Episode 44: reward: 100.000, steps: 100\n",
            "Episode 45: reward: 100.000, steps: 100\n",
            "Episode 46: reward: 100.000, steps: 100\n",
            "Episode 47: reward: 100.000, steps: 100\n",
            "Episode 48: reward: 100.000, steps: 100\n",
            "Episode 49: reward: 100.000, steps: 100\n",
            "Episode 50: reward: 100.000, steps: 100\n",
            "Episode 51: reward: 100.000, steps: 100\n",
            "Episode 52: reward: 100.000, steps: 100\n",
            "Episode 53: reward: 100.000, steps: 100\n",
            "Episode 54: reward: 100.000, steps: 100\n",
            "Episode 55: reward: 100.000, steps: 100\n",
            "Episode 56: reward: 100.000, steps: 100\n",
            "Episode 57: reward: 100.000, steps: 100\n",
            "Episode 58: reward: 100.000, steps: 100\n",
            "Episode 59: reward: 100.000, steps: 100\n",
            "Episode 60: reward: 100.000, steps: 100\n",
            "Episode 61: reward: 100.000, steps: 100\n",
            "Episode 62: reward: 100.000, steps: 100\n",
            "Episode 63: reward: 100.000, steps: 100\n",
            "Episode 64: reward: 100.000, steps: 100\n",
            "Episode 65: reward: 100.000, steps: 100\n",
            "Episode 66: reward: 100.000, steps: 100\n",
            "Episode 67: reward: 100.000, steps: 100\n",
            "Episode 68: reward: 100.000, steps: 100\n",
            "Episode 69: reward: 100.000, steps: 100\n",
            "Episode 70: reward: 100.000, steps: 100\n",
            "Episode 71: reward: 100.000, steps: 100\n",
            "Episode 72: reward: 100.000, steps: 100\n",
            "Episode 73: reward: 100.000, steps: 100\n",
            "Episode 74: reward: 100.000, steps: 100\n",
            "Episode 75: reward: 100.000, steps: 100\n",
            "Episode 76: reward: 100.000, steps: 100\n",
            "Episode 77: reward: 100.000, steps: 100\n",
            "Episode 78: reward: 100.000, steps: 100\n",
            "Episode 79: reward: 100.000, steps: 100\n",
            "Episode 80: reward: 100.000, steps: 100\n",
            "Episode 81: reward: 100.000, steps: 100\n",
            "Episode 82: reward: 100.000, steps: 100\n",
            "Episode 83: reward: 100.000, steps: 100\n",
            "Episode 84: reward: 100.000, steps: 100\n",
            "Episode 85: reward: 100.000, steps: 100\n",
            "Episode 86: reward: 100.000, steps: 100\n",
            "Episode 87: reward: 100.000, steps: 100\n",
            "Episode 88: reward: 100.000, steps: 100\n",
            "Episode 89: reward: 100.000, steps: 100\n",
            "Episode 90: reward: 100.000, steps: 100\n",
            "Episode 91: reward: 100.000, steps: 100\n",
            "Episode 92: reward: 100.000, steps: 100\n",
            "Episode 93: reward: 100.000, steps: 100\n",
            "Episode 94: reward: 100.000, steps: 100\n",
            "Episode 95: reward: 100.000, steps: 100\n",
            "Episode 96: reward: 100.000, steps: 100\n",
            "Episode 97: reward: 100.000, steps: 100\n",
            "Episode 98: reward: 100.000, steps: 100\n",
            "Episode 99: reward: 100.000, steps: 100\n",
            "Episode 100: reward: 100.000, steps: 100\n",
            "98.0\n"
          ]
        }
      ]
    },
    {
      "cell_type": "code",
      "source": [
        "_ = dqn.test(env, nb_episodes=1, visualize=True)"
      ],
      "metadata": {
        "colab": {
          "base_uri": "https://localhost:8080/"
        },
        "id": "ojygm1b21WsM",
        "outputId": "a5d4c2a7-5cc8-4842-98d0-20fe20f5ca77"
      },
      "execution_count": null,
      "outputs": [
        {
          "output_type": "stream",
          "name": "stdout",
          "text": [
            "[  ,  ,  ,  ,  ,  ,  ,  ,  ,  , ]\n",
            "[  ,  ,  ,  , \u001b[;42m \u001b[0m,  ,  ,  ,  ,  , ]\n",
            "[  ,  ,  ,  ,  ,  ,  ,  ,  ,  , ]\n",
            "[  ,  , \u001b[;41m \u001b[0m,  ,  ,  ,  ,  ,  ,  , ]\n",
            "[  ,  ,  ,  ,  ,  ,  ,  ,  ,  , ]\n",
            "[  ,  ,  ,  ,  ,  ,  ,  ,  ,  , ]\n",
            "[  ,  ,  ,  ,  ,  ,  ,  ,  ,  , ]\n",
            "[  ,  ,  ,  ,  ,  ,  ,  ,  ,  , ]\n",
            "[  ,  ,  ,  ,  ,  ,  ,  ,  ,  , ]\n",
            "[  ,  ,  ,  ,  ,  ,  ,  ,  ,  , ]\n",
            "Episode 1: reward: 100.000, steps: 100\n"
          ]
        }
      ]
    },
    {
      "cell_type": "markdown",
      "source": [
        "# **4. Reloading Agent from Memory**"
      ],
      "metadata": {
        "id": "U8KVUVrt4DTO"
      }
    },
    {
      "cell_type": "code",
      "source": [
        "dqn.save_weights('dqn_weights.h5f', overwrite=True)"
      ],
      "metadata": {
        "id": "l5eJ3EYx4E34"
      },
      "execution_count": null,
      "outputs": []
    },
    {
      "cell_type": "code",
      "source": [
        "env = CustomEnv()\n",
        "actions = env.action_space.n\n",
        "states = env.observation_space\n",
        "model = build_model(states, actions)\n",
        "dqn = build_agent(model, actions)\n",
        "dqn.compile(Adam(lr=1e-3), metrics=['mae'])"
      ],
      "metadata": {
        "id": "IMqY6uZk4VWC"
      },
      "execution_count": null,
      "outputs": []
    },
    {
      "cell_type": "code",
      "source": [
        "dqn.load_weights('dqn_weights.h5f')"
      ],
      "metadata": {
        "id": "gX8qSA6D5P30"
      },
      "execution_count": null,
      "outputs": []
    },
    {
      "cell_type": "code",
      "source": [
        "_ = dqn.test(env, nb_episodes=1, visualize=True)"
      ],
      "metadata": {
        "id": "m125qc6l5Sew"
      },
      "execution_count": null,
      "outputs": []
    },
    {
      "cell_type": "code",
      "source": [
        "scores = dqn.test(env, nb_episodes=25, visualize=False)\n",
        "print(np.mean(scores.history['episode_reward']))"
      ],
      "metadata": {
        "colab": {
          "base_uri": "https://localhost:8080/"
        },
        "id": "6nJeN1saGfEw",
        "outputId": "883b2bad-71f4-418d-c034-b2016d77bcd0"
      },
      "execution_count": null,
      "outputs": [
        {
          "output_type": "stream",
          "name": "stdout",
          "text": [
            "Testing for 25 episodes ...\n",
            "Episode 1: reward: -100.000, steps: 1\n",
            "Episode 2: reward: 100.000, steps: 100\n",
            "Episode 3: reward: 100.000, steps: 100\n",
            "Episode 4: reward: 100.000, steps: 100\n",
            "Episode 5: reward: 100.000, steps: 100\n",
            "Episode 6: reward: 100.000, steps: 100\n",
            "Episode 7: reward: 100.000, steps: 100\n",
            "Episode 8: reward: 100.000, steps: 100\n",
            "Episode 9: reward: 100.000, steps: 100\n",
            "Episode 10: reward: 100.000, steps: 100\n",
            "Episode 11: reward: 100.000, steps: 100\n",
            "Episode 12: reward: 100.000, steps: 100\n",
            "Episode 13: reward: 100.000, steps: 100\n",
            "Episode 14: reward: 100.000, steps: 100\n",
            "Episode 15: reward: 100.000, steps: 100\n",
            "Episode 16: reward: 100.000, steps: 100\n",
            "Episode 17: reward: 100.000, steps: 100\n",
            "Episode 18: reward: 100.000, steps: 100\n",
            "Episode 19: reward: 100.000, steps: 100\n",
            "Episode 20: reward: 100.000, steps: 100\n",
            "Episode 21: reward: 100.000, steps: 100\n",
            "Episode 22: reward: 100.000, steps: 100\n",
            "Episode 23: reward: 100.000, steps: 100\n",
            "Episode 24: reward: 100.000, steps: 100\n",
            "Episode 25: reward: 100.000, steps: 100\n",
            "92.0\n"
          ]
        }
      ]
    },
    {
      "cell_type": "code",
      "source": [
        "import plotly.graph_objs as go\n",
        "from matplotlib import pyplot as plt\n",
        "\n",
        "plt.plot(history.history['nb_episode_steps'])\n",
        "#plt.plot(history.history['episode_reward'])\n",
        "#nb_steps\n",
        "plt.title('model accuracy')\n",
        "plt.ylabel('accuracy')\n",
        "plt.xlabel('epoch')\n",
        "plt.legend(['train', 'val'], loc='upper left')\n",
        "plt.show()"
      ],
      "metadata": {
        "colab": {
          "base_uri": "https://localhost:8080/",
          "height": 295
        },
        "id": "wY-LjcFr6uZf",
        "outputId": "a1fc34e3-a263-4434-eda6-794f9ea342aa"
      },
      "execution_count": null,
      "outputs": [
        {
          "output_type": "display_data",
          "data": {
            "text/plain": [
              "<Figure size 432x288 with 1 Axes>"
            ],
            "image/png": "[encoded data removed]"
          },
          "metadata": {
            "needs_background": "light"
          }
        }
      ]
    },
    {
      "cell_type": "code",
      "source": [
        "X = np.array(history.history['nb_steps'])\n",
        "Y = np.array(history.history['episode_reward'])\n",
        "\n",
        "plt.scatter(X,Y, s=0.2)\n",
        "plt.show()"
      ],
      "metadata": {
        "colab": {
          "base_uri": "https://localhost:8080/",
          "height": 265
        },
        "id": "iUgNTvGvJqX8",
        "outputId": "65a11d9c-7357-4a4c-f611-094bbe329efd"
      },
      "execution_count": null,
      "outputs": [
        {
          "output_type": "display_data",
          "data": {
            "text/plain": [
              "<Figure size 432x288 with 1 Axes>"
            ],
            "image/png": "[encoded data removed]"
          },
          "metadata": {
            "needs_background": "light"
          }
        }
      ]
    }
  ]
}